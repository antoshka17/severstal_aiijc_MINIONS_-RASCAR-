{
 "cells": [
  {
   "cell_type": "code",
   "execution_count": 1,
   "id": "5fabed44",
   "metadata": {},
   "outputs": [
    {
     "name": "stderr",
     "output_type": "stream",
     "text": [
      "/home/anton/anaconda3/lib/python3.11/site-packages/pandas/core/arrays/masked.py:60: UserWarning: Pandas requires version '1.3.6' or newer of 'bottleneck' (version '1.3.5' currently installed).\n",
      "  from pandas.core import (\n"
     ]
    }
   ],
   "source": [
    "import torch\n",
    "import timm\n",
    "import torch.nn.functional as F\n",
    "import numpy as np\n",
    "import pandas as pd\n",
    "from tqdm import tqdm\n",
    "from collections import OrderedDict\n",
    "import os\n",
    "import random\n",
    "from pathlib import Path\n",
    "from torch.utils.data import Dataset, DataLoader\n",
    "from glob import glob\n",
    "import albumentations as A\n",
    "from PIL import Image\n",
    "import cv2"
   ]
  },
  {
   "cell_type": "code",
   "execution_count": 2,
   "id": "940756a8",
   "metadata": {},
   "outputs": [],
   "source": [
    "device = 'cuda' if torch.cuda.is_available() else 'cpu'\n",
    "num_workers = 4\n",
    "batch_size = 8\n",
    "img_shape = [512, 512]\n",
    "random_state = 69"
   ]
  },
  {
   "cell_type": "code",
   "execution_count": 3,
   "id": "39aa5d18",
   "metadata": {},
   "outputs": [],
   "source": [
    "def set_random_seed(seed: int = 2222, deterministic: bool = False):\n",
    "    random.seed(seed)\n",
    "    np.random.seed(seed)\n",
    "    os.environ[\"PYTHONHASHSEED\"] = str(seed)\n",
    "    torch.manual_seed(seed)\n",
    "    torch.cuda.manual_seed(seed)\n",
    "    torch.backends.cudnn.benchmark = True\n",
    "    torch.backends.cudnn.deterministic = deterministic\n",
    "    \n",
    "set_random_seed(random_state)"
   ]
  },
  {
   "cell_type": "code",
   "execution_count": 4,
   "id": "3dccafa2",
   "metadata": {},
   "outputs": [],
   "source": [
    "def read_image(filepath):\n",
    "    image = Image.open(filepath)\n",
    "    image = np.array(image)\n",
    "    image = cv2.resize(image, (512, 512))\n",
    "    return image\n",
    "\n",
    "\n",
    "def read_mask(filepath):\n",
    "    image = Image.open(filepath).convert('L')\n",
    "    image = np.array(image).astype(np.float64)\n",
    "    image /= image.max()\n",
    "    image = image.astype(np.uint8)\n",
    "    image = cv2.resize(image, (512, 512))\n",
    "    return image\n"
   ]
  },
  {
   "cell_type": "code",
   "execution_count": 5,
   "id": "f1a10433",
   "metadata": {},
   "outputs": [
    {
     "data": {
      "text/plain": [
       "[1,\n",
       " 0,\n",
       " 0,\n",
       " 1,\n",
       " 1,\n",
       " 0,\n",
       " 0,\n",
       " 0,\n",
       " 0,\n",
       " 0,\n",
       " 0,\n",
       " 1,\n",
       " 0,\n",
       " 0,\n",
       " 0,\n",
       " 0,\n",
       " 0,\n",
       " 0,\n",
       " 0,\n",
       " 1,\n",
       " 0,\n",
       " 1,\n",
       " 0,\n",
       " 0,\n",
       " 0,\n",
       " 0,\n",
       " 0,\n",
       " 0,\n",
       " 0,\n",
       " 1,\n",
       " 0,\n",
       " 0,\n",
       " 0,\n",
       " 0,\n",
       " 0,\n",
       " 0,\n",
       " 0,\n",
       " 1,\n",
       " 0,\n",
       " 0,\n",
       " 0,\n",
       " 0,\n",
       " 0,\n",
       " 0,\n",
       " 0,\n",
       " 0,\n",
       " 1,\n",
       " 0,\n",
       " 1,\n",
       " 0,\n",
       " 1,\n",
       " 0,\n",
       " 0,\n",
       " 0,\n",
       " 0,\n",
       " 0,\n",
       " 0,\n",
       " 1,\n",
       " 0,\n",
       " 0,\n",
       " 0,\n",
       " 0,\n",
       " 0,\n",
       " 0,\n",
       " 0,\n",
       " 0,\n",
       " 0,\n",
       " 0,\n",
       " 0,\n",
       " 0,\n",
       " 0,\n",
       " 0,\n",
       " 0,\n",
       " 0,\n",
       " 0,\n",
       " 0,\n",
       " 0,\n",
       " 1,\n",
       " 0,\n",
       " 0,\n",
       " 0,\n",
       " 0,\n",
       " 0,\n",
       " 0,\n",
       " 1,\n",
       " 0,\n",
       " 0,\n",
       " 0,\n",
       " 0,\n",
       " 0,\n",
       " 0,\n",
       " 0,\n",
       " 0,\n",
       " 0,\n",
       " 0,\n",
       " 0,\n",
       " 0,\n",
       " 0,\n",
       " 1,\n",
       " 0,\n",
       " 0,\n",
       " 0,\n",
       " 1,\n",
       " 0,\n",
       " 0,\n",
       " 0,\n",
       " 0,\n",
       " 0,\n",
       " 0,\n",
       " 0,\n",
       " 1,\n",
       " 0,\n",
       " 1,\n",
       " 0,\n",
       " 1,\n",
       " 0,\n",
       " 1,\n",
       " 0,\n",
       " 0,\n",
       " 1,\n",
       " 0,\n",
       " 0,\n",
       " 0,\n",
       " 0,\n",
       " 0,\n",
       " 0,\n",
       " 0,\n",
       " 0,\n",
       " 0,\n",
       " 0,\n",
       " 0,\n",
       " 0,\n",
       " 0,\n",
       " 0,\n",
       " 1,\n",
       " 0,\n",
       " 1,\n",
       " 0,\n",
       " 1,\n",
       " 0,\n",
       " 0,\n",
       " 0,\n",
       " 0,\n",
       " 0,\n",
       " 0,\n",
       " 0,\n",
       " 0,\n",
       " 0,\n",
       " 1,\n",
       " 1,\n",
       " 1,\n",
       " 1,\n",
       " 1,\n",
       " 1,\n",
       " 1,\n",
       " 1,\n",
       " 1,\n",
       " 1,\n",
       " 1,\n",
       " 1,\n",
       " 1,\n",
       " 1,\n",
       " 1,\n",
       " 1,\n",
       " 1,\n",
       " 1,\n",
       " 1,\n",
       " 1,\n",
       " 1,\n",
       " 1,\n",
       " 1,\n",
       " 1,\n",
       " 1,\n",
       " 1,\n",
       " 1,\n",
       " 1,\n",
       " 1,\n",
       " 1,\n",
       " 1,\n",
       " 1,\n",
       " 0,\n",
       " 0,\n",
       " 0,\n",
       " 0,\n",
       " 0,\n",
       " 0]"
      ]
     },
     "execution_count": 5,
     "metadata": {},
     "output_type": "execute_result"
    }
   ],
   "source": [
    "labels, fns = [], glob('original_images')\n",
    "\n",
    "with open(\"labels.txt\" , \"r\") as fin:\n",
    "    f = fin.readlines()\n",
    "    for ff in f:\n",
    "        labels.append(int(ff))\n",
    "labels"
   ]
  },
  {
   "cell_type": "code",
   "execution_count": 6,
   "id": "a2e91b26",
   "metadata": {},
   "outputs": [],
   "source": [
    "import torch.nn as nn\n",
    "ALPHA = 0.8\n",
    "GAMMA = 2\n",
    "\n",
    "class FocalLoss(nn.Module):\n",
    "    def __init__(self, weight=None, size_average=True):\n",
    "        super(FocalLoss, self).__init__()\n",
    "\n",
    "    def forward(self, outputs, targets, alpha=ALPHA, gamma=GAMMA, smooth=1):\n",
    "        \n",
    "        #comment out if your model contains a sigmoid or equivalent activation layer\n",
    "        ce_loss = torch.nn.functional.cross_entropy(outputs, targets, reduction='none') # important to add reduction='none' to keep per-batch-item loss\n",
    "        pt = torch.exp(-ce_loss)\n",
    "        focal_loss = (alpha * (1-pt)**gamma * ce_loss).mean() # mean over the batch\n",
    "        return focal_loss\n"
   ]
  },
  {
   "cell_type": "code",
   "execution_count": 7,
   "id": "2806b453",
   "metadata": {},
   "outputs": [],
   "source": [
    "transforms_train = A.Compose([\n",
    "\n",
    "#     A.OneOf([\n",
    "#         A.OpticalDistortion(distort_limit=1.0),\n",
    "#         A.GridDistortion(num_steps=5, distort_limit=1.),\n",
    "#         A.ElasticTransform(alpha=3),\n",
    "#     ], p=AUG_PROB),\n",
    "\n",
    "#     A.ShiftScaleRotate(shift_limit=0.1, scale_limit=0.1, rotate_limit=15, border_mode=0, p=AUG_PROB),\n",
    "    A.Resize(img_shape[0], img_shape[1]),\n",
    "#     A.CoarseDropout(max_holes=16, max_height=16, max_width=16, min_holes=1, min_height=2, min_width=2, p=AUG_PROB),    \n",
    "    A.Normalize(mean=[0.485, 0.456, 0.406], std=[0.229, 0.224, 0.225])\n",
    "])\n",
    "\n",
    "transforms_val = A.Compose([\n",
    "    A.Resize(img_shape[0], img_shape[1]),\n",
    "    A.Normalize(mean=[0.485, 0.456, 0.406], std=[0.229, 0.224, 0.225])\n",
    "])\n",
    "transform_for_masks = A.Compose([\n",
    "    A.Resize(img_shape[0], img_shape[1])\n",
    "])\n"
   ]
  },
  {
   "cell_type": "code",
   "execution_count": 8,
   "id": "ac09c8a6",
   "metadata": {},
   "outputs": [],
   "source": [
    "def testing_model(model, image):\n",
    "    #takes image and returns mask in 0-1 format\n",
    "    model.eval()\n",
    "    image = transforms_val(image=image[:, :, :])['image']\n",
    "    image = image.transpose(2, 0, 1)\n",
    "    image = torch.tensor(image)\n",
    "    image = image.unsqueeze(dim=0)\n",
    "    image = image.to(device)\n",
    "    with torch.no_grad():\n",
    "        proba = model(image[:, :, :, :]).detach().cpu().numpy()\n",
    "        output = proba.round()[0,0,:,:]\n",
    "    return output, proba[0, 0, ...]\n",
    "\n",
    "\n",
    "from collections import deque\n",
    "from tqdm.auto import tqdm\n",
    "\n",
    "def bfs(image):\n",
    "    n,m = len(image), len(image[0])\n",
    "    graph = {i: [] for i in range(n*m)}\n",
    "    \n",
    "    # creating graph\n",
    "    for row in range(n):\n",
    "        for col in range(m):\n",
    "            if image[row][col] == 1:\n",
    "                u = row * m + col\n",
    "                adj = []\n",
    "                if row != 0: adj.append([row-1, col])\n",
    "                if col != 0: adj.append([row, col-1])\n",
    "                if row != n-1: adj.append([row+1, col])\n",
    "                if col != m-1: adj.append([row, col+1])\n",
    "                \n",
    "                for point in adj:\n",
    "                    y, x = point\n",
    "                    if image[y][x] == 1:\n",
    "                        v = y*m + x\n",
    "                        graph[u].append(v)\n",
    "                del adj, u\n",
    "                        \n",
    "    # doing bfs\n",
    "    used, comps = [False for i in range(n*m)], []\n",
    "    for cell in range(n*m):\n",
    "        row = cell // m\n",
    "        col = cell % m\n",
    "        if image[row][col] == 0:\n",
    "            continue\n",
    "        if used[cell]:\n",
    "            continue\n",
    "            \n",
    "        visited = []\n",
    "        q = deque()\n",
    "        start = cell\n",
    "        q.append(start)\n",
    "    \n",
    "        while q:\n",
    "            node = q.popleft()\n",
    "            for v in graph[node]:\n",
    "                if not used[v]:\n",
    "                    q.append(v)\n",
    "                    used[v] = True\n",
    "                    visited.append(v)\n",
    "                \n",
    "        comps.append(visited)\n",
    "        del visited, q\n",
    "    return comps \n",
    "\n",
    "def inference_take_the_biggest_component(models, images_path, output_path='output_masks', save_npz=True):\n",
    "    #inference of the model\n",
    "    counts = []\n",
    "    masks = {}\n",
    "    if not Path(output_path).exists():\n",
    "        os.mkdir(output_path)\n",
    "    for i, image_path in tqdm(enumerate(images_path), total=len(images_path), position=0):\n",
    "        image = read_image(image_path)\n",
    "        super_output = np.zeros((img_shape[0], img_shape[1]))\n",
    "        for model in models:\n",
    "            model.eval()\n",
    "            with torch.no_grad():\n",
    "                output, proba = testing_model(model, image)\n",
    "                super_output += (proba / len(models))     \n",
    "        super_output = super_output.round()\n",
    "        \n",
    "        comps = bfs(super_output)\n",
    "        counts.append(len(comps))\n",
    "        \n",
    "        largest_comp, max_size = [], 0\n",
    "        for comp in comps:\n",
    "            if max_size < len(comp):\n",
    "                max_size = len(comp)\n",
    "                largest_comp = comp\n",
    "                \n",
    "        one_comp_image = np.zeros((img_shape[0], img_shape[1]))\n",
    "        for node in largest_comp:\n",
    "            row, col = node // (img_shape[1]), node % (img_shape[0])\n",
    "            one_comp_image[row, col] = 1\n",
    "        \n",
    "        normal_mask = []\n",
    "        for row in range(one_comp_image.shape[0]):\n",
    "            if one_comp_image[row, :].sum() > 0:\n",
    "                normal_mask.append(list(one_comp_image[row, :]))\n",
    "#         one_comp_image *= 255\n",
    "        normal_mask = np.array(normal_mask)\n",
    "        super_normal_mask = []\n",
    "        for col in range(normal_mask.shape[1]):\n",
    "            if normal_mask[:, col].sum() > 0:\n",
    "                super_normal_mask.append(list(normal_mask[:, col]))\n",
    "        super_normal_mask = np.array(super_normal_mask).T\n",
    "        \n",
    "        super_puper_mask = np.zeros((max(super_normal_mask.shape[0], super_normal_mask.shape[1]),\n",
    "                                   max(super_normal_mask.shape[0], super_normal_mask.shape[1])))\n",
    "        if super_normal_mask.shape[0] <= super_normal_mask.shape[1]:\n",
    "            super_puper_mask[(super_normal_mask.shape[1] - super_normal_mask.shape[0]) // 2: \n",
    "                             (super_normal_mask.shape[1] - super_normal_mask.shape[0]) // 2 + super_normal_mask.shape[0], :] = super_normal_mask\n",
    "            \n",
    "        if super_normal_mask.shape[0] > super_normal_mask.shape[1]:\n",
    "            super_puper_mask[:, (super_normal_mask.shape[0] - super_normal_mask.shape[1]) // 2: \n",
    "                             (super_normal_mask.shape[0] - super_normal_mask.shape[1]) // 2 + super_normal_mask.shape[1]] = super_normal_mask\n",
    "        super_puper_puper = np.zeros((super_puper_mask.shape[0] + 60, super_puper_mask.shape[1] + 60))\n",
    "        super_puper_puper[30:super_puper_mask.shape[0] + 30, 30:super_puper_mask.shape[1] + 30] = super_puper_mask\n",
    "        masks[image_path.split('/')[-1][:-4]] = super_output * 255\n",
    "        super_output *= 255\n",
    "        \n",
    "        cv2.imwrite(os.path.join(output_path, image_path.split('/')[-1][:-4] + '.png'), \n",
    "                    super_puper_puper * 255)\n",
    "\n",
    "    if save_npz:\n",
    "        np.savez('masks.npz', **masks)\n",
    "    return counts\n",
    "\n",
    "def inference(models, images_path, output_path='output_masks', save_npz=True):\n",
    "    #inference of the model\n",
    "    counts = []\n",
    "    masks = {}\n",
    "    if not Path(output_path).exists():\n",
    "        os.mkdir(output_path)\n",
    "    for i, image_path in tqdm(enumerate(images_path), total=len(images_path), position=0):\n",
    "        image = read_image(image_path)\n",
    "        super_output = np.zeros((img_shape[0], img_shape[1]))\n",
    "        for model in models:\n",
    "            model.eval()\n",
    "            with torch.no_grad():\n",
    "                output, proba = testing_model(model, image)\n",
    "                super_output += (proba / len(models))     \n",
    "        super_output = super_output.round()\n",
    "        \n",
    "        comps = bfs(super_output)\n",
    "        counts.append(len(comps))\n",
    "        masks[image_path.split('/')[-1][:-4]] = super_output * 255\n",
    "        super_output *= 255\n",
    "        cv2.imwrite(os.path.join(output_path, image_path.split('/')[-1][:-4] + '.png'), \n",
    "                    super_output)\n",
    "\n",
    "    if save_npz:\n",
    "        np.savez('masks.npz', **masks)\n",
    "    return counts\n"
   ]
  },
  {
   "cell_type": "code",
   "execution_count": 9,
   "id": "d4655109",
   "metadata": {},
   "outputs": [
    {
     "data": {
      "application/vnd.jupyter.widget-view+json": {
       "model_id": "487df7a4191241459dd4d37dba6d891d",
       "version_major": 2,
       "version_minor": 0
      },
      "text/plain": [
       "  0%|          | 0/186 [00:00<?, ?it/s]"
      ]
     },
     "metadata": {},
     "output_type": "display_data"
    },
    {
     "data": {
      "text/plain": [
       "[32,\n",
       " 20,\n",
       " 6,\n",
       " 3,\n",
       " 36,\n",
       " 47,\n",
       " 98,\n",
       " 19,\n",
       " 5,\n",
       " 74,\n",
       " 6,\n",
       " 10,\n",
       " 17,\n",
       " 68,\n",
       " 12,\n",
       " 2,\n",
       " 10,\n",
       " 27,\n",
       " 92,\n",
       " 31,\n",
       " 59,\n",
       " 86,\n",
       " 41,\n",
       " 2,\n",
       " 24,\n",
       " 5,\n",
       " 9,\n",
       " 32,\n",
       " 8,\n",
       " 81,\n",
       " 175,\n",
       " 61,\n",
       " 99,\n",
       " 60,\n",
       " 30,\n",
       " 2,\n",
       " 42,\n",
       " 50,\n",
       " 61,\n",
       " 247,\n",
       " 21,\n",
       " 48,\n",
       " 88,\n",
       " 1,\n",
       " 88,\n",
       " 40,\n",
       " 3,\n",
       " 10,\n",
       " 56,\n",
       " 27,\n",
       " 35,\n",
       " 18,\n",
       " 68,\n",
       " 19,\n",
       " 14,\n",
       " 1,\n",
       " 13,\n",
       " 10,\n",
       " 16,\n",
       " 100,\n",
       " 1,\n",
       " 5,\n",
       " 1,\n",
       " 3,\n",
       " 29,\n",
       " 60,\n",
       " 14,\n",
       " 267,\n",
       " 8,\n",
       " 94,\n",
       " 29,\n",
       " 9,\n",
       " 25,\n",
       " 35,\n",
       " 88,\n",
       " 10,\n",
       " 6,\n",
       " 28,\n",
       " 37,\n",
       " 4,\n",
       " 6,\n",
       " 10,\n",
       " 15,\n",
       " 19,\n",
       " 13,\n",
       " 21,\n",
       " 23,\n",
       " 3,\n",
       " 58,\n",
       " 14,\n",
       " 1,\n",
       " 3,\n",
       " 11,\n",
       " 7,\n",
       " 18,\n",
       " 4,\n",
       " 1,\n",
       " 159,\n",
       " 22,\n",
       " 3,\n",
       " 14,\n",
       " 32,\n",
       " 3,\n",
       " 42,\n",
       " 9,\n",
       " 75,\n",
       " 1,\n",
       " 2,\n",
       " 7,\n",
       " 14,\n",
       " 44,\n",
       " 4,\n",
       " 3,\n",
       " 19,\n",
       " 22,\n",
       " 8,\n",
       " 4,\n",
       " 161,\n",
       " 5,\n",
       " 20,\n",
       " 6,\n",
       " 88,\n",
       " 10,\n",
       " 8,\n",
       " 5,\n",
       " 9,\n",
       " 11,\n",
       " 9,\n",
       " 37,\n",
       " 34,\n",
       " 32,\n",
       " 9,\n",
       " 35,\n",
       " 7,\n",
       " 34,\n",
       " 8,\n",
       " 6,\n",
       " 63,\n",
       " 29,\n",
       " 33,\n",
       " 15,\n",
       " 97,\n",
       " 59,\n",
       " 14,\n",
       " 94,\n",
       " 7,\n",
       " 24,\n",
       " 24,\n",
       " 5,\n",
       " 121,\n",
       " 116,\n",
       " 13,\n",
       " 47,\n",
       " 84,\n",
       " 40,\n",
       " 126,\n",
       " 5,\n",
       " 137,\n",
       " 3,\n",
       " 5,\n",
       " 100,\n",
       " 42,\n",
       " 21,\n",
       " 28,\n",
       " 5,\n",
       " 1,\n",
       " 3,\n",
       " 114,\n",
       " 2,\n",
       " 4,\n",
       " 25,\n",
       " 52,\n",
       " 32,\n",
       " 20,\n",
       " 18,\n",
       " 83,\n",
       " 10,\n",
       " 21,\n",
       " 5,\n",
       " 141,\n",
       " 2,\n",
       " 81,\n",
       " 14,\n",
       " 27,\n",
       " 28,\n",
       " 46]"
      ]
     },
     "execution_count": 9,
     "metadata": {},
     "output_type": "execute_result"
    }
   ],
   "source": [
    "if not Path('predicted_original_masks').exists():\n",
    "    os.mkdir('predicted_original_masks')\n",
    "    \n",
    "model = torch.load('trained_models/fold 1/model_resnet18_lovasz_05_05_120.pt').to(device)\n",
    "model.eval()\n",
    "\n",
    "image_pathes = glob('original_images/*')\n",
    "inference_take_the_biggest_component([model], image_pathes, output_path='predicted_original_masks')"
   ]
  },
  {
   "cell_type": "code",
   "execution_count": 10,
   "id": "5b692b64",
   "metadata": {},
   "outputs": [],
   "source": [
    "# class TypeDataset(Dataset):\n",
    "#     def __init__(self, images_pathes, labels, transform=None):\n",
    "#         super().__init__()\n",
    "#         self.images_pathes = images_pathes\n",
    "#         self.labels = labels\n",
    "#         self.transform = transform\n",
    "        \n",
    "#     def __len__(self):\n",
    "#         return len(self.labels)\n",
    "    \n",
    "#     def __getitem__(self, index):\n",
    "#         path = self.images_pathes[index]\n",
    "#         image = read_image(path) / 255.0\n",
    "#         label = self.labels[index]\n",
    "        \n",
    "#         if self.transform is not None:\n",
    "#             image = self.transform(image=image)['image']\n",
    "#         image = torch.FloatTensor(image).view(1, image.shape[0], image.shape[1])\n",
    "#         return image, label\n",
    "\n",
    "class TypeDataset(Dataset):\n",
    "    def __init__(self, images_pathes, labels, transform=None):\n",
    "        super().__init__()\n",
    "        self.images_pathes = images_pathes\n",
    "        self.labels = labels\n",
    "        self.transform = transform\n",
    "        \n",
    "    def __len__(self):\n",
    "        return len(self.labels)\n",
    "    \n",
    "    def __getitem__(self, index):\n",
    "        path = self.images_pathes[index]\n",
    "        image = read_image(path)\n",
    "        label = self.labels[index]\n",
    "        \n",
    "        if self.transform is not None:\n",
    "            image = self.transform(image=image)['image']\n",
    "        image = torch.FloatTensor(image).permute(2, 0, 1)\n",
    "        return image, label\n"
   ]
  },
  {
   "cell_type": "code",
   "execution_count": 11,
   "id": "8070778d",
   "metadata": {},
   "outputs": [
    {
     "data": {
      "text/plain": [
       "['original_images/0.png',\n",
       " 'original_images/1.png',\n",
       " 'original_images/2.png',\n",
       " 'original_images/3.png',\n",
       " 'original_images/4.png',\n",
       " 'original_images/5.png',\n",
       " 'original_images/6.png',\n",
       " 'original_images/7.png',\n",
       " 'original_images/8.png',\n",
       " 'original_images/10.png',\n",
       " 'original_images/11.png',\n",
       " 'original_images/12.png',\n",
       " 'original_images/13.png',\n",
       " 'original_images/14.png',\n",
       " 'original_images/15.png',\n",
       " 'original_images/16.png',\n",
       " 'original_images/17.png',\n",
       " 'original_images/18.png',\n",
       " 'original_images/19.png',\n",
       " 'original_images/20.png',\n",
       " 'original_images/21.png',\n",
       " 'original_images/22.png',\n",
       " 'original_images/23.png',\n",
       " 'original_images/24.png',\n",
       " 'original_images/25.png',\n",
       " 'original_images/26.png',\n",
       " 'original_images/27.png',\n",
       " 'original_images/28.png',\n",
       " 'original_images/29.png',\n",
       " 'original_images/30.png',\n",
       " 'original_images/31.png',\n",
       " 'original_images/32.png',\n",
       " 'original_images/33.png',\n",
       " 'original_images/34.png',\n",
       " 'original_images/35.png',\n",
       " 'original_images/36.png',\n",
       " 'original_images/37.png',\n",
       " 'original_images/38.png',\n",
       " 'original_images/39.png',\n",
       " 'original_images/40.png',\n",
       " 'original_images/41.png',\n",
       " 'original_images/43.png',\n",
       " 'original_images/44.png',\n",
       " 'original_images/45.png',\n",
       " 'original_images/46.png',\n",
       " 'original_images/47.png',\n",
       " 'original_images/48.png',\n",
       " 'original_images/49.png',\n",
       " 'original_images/50.png',\n",
       " 'original_images/51.png',\n",
       " 'original_images/52.png',\n",
       " 'original_images/53.png',\n",
       " 'original_images/54.png',\n",
       " 'original_images/55.png',\n",
       " 'original_images/56.png',\n",
       " 'original_images/57.png',\n",
       " 'original_images/58.png',\n",
       " 'original_images/59.png',\n",
       " 'original_images/60.png',\n",
       " 'original_images/61.png',\n",
       " 'original_images/62.png',\n",
       " 'original_images/63.png',\n",
       " 'original_images/64.png',\n",
       " 'original_images/65.png',\n",
       " 'original_images/66.png',\n",
       " 'original_images/67.png',\n",
       " 'original_images/68.png',\n",
       " 'original_images/69.png',\n",
       " 'original_images/70.png',\n",
       " 'original_images/71.png',\n",
       " 'original_images/72.png',\n",
       " 'original_images/74.png',\n",
       " 'original_images/75.png',\n",
       " 'original_images/76.png',\n",
       " 'original_images/77.png',\n",
       " 'original_images/78.png',\n",
       " 'original_images/81.png',\n",
       " 'original_images/82.png',\n",
       " 'original_images/83.png',\n",
       " 'original_images/84.png',\n",
       " 'original_images/85.png',\n",
       " 'original_images/86.png',\n",
       " 'original_images/88.png',\n",
       " 'original_images/89.png',\n",
       " 'original_images/90.png',\n",
       " 'original_images/91.png',\n",
       " 'original_images/92.png',\n",
       " 'original_images/93.png',\n",
       " 'original_images/94.png',\n",
       " 'original_images/96.png',\n",
       " 'original_images/97.png',\n",
       " 'original_images/98.png',\n",
       " 'original_images/99.png',\n",
       " 'original_images/100.png',\n",
       " 'original_images/101.png',\n",
       " 'original_images/102.png',\n",
       " 'original_images/103.png',\n",
       " 'original_images/104.png',\n",
       " 'original_images/105.png',\n",
       " 'original_images/106.png',\n",
       " 'original_images/107.png',\n",
       " 'original_images/108.png',\n",
       " 'original_images/109.png',\n",
       " 'original_images/110.png',\n",
       " 'original_images/111.png',\n",
       " 'original_images/112.png',\n",
       " 'original_images/113.png',\n",
       " 'original_images/114.png',\n",
       " 'original_images/115.png',\n",
       " 'original_images/116.png',\n",
       " 'original_images/117.png',\n",
       " 'original_images/118.png',\n",
       " 'original_images/119.png',\n",
       " 'original_images/120.png',\n",
       " 'original_images/121.png',\n",
       " 'original_images/122.png',\n",
       " 'original_images/123.png',\n",
       " 'original_images/124.png',\n",
       " 'original_images/125.png',\n",
       " 'original_images/126.png',\n",
       " 'original_images/127.png',\n",
       " 'original_images/128.png',\n",
       " 'original_images/129.png',\n",
       " 'original_images/131.png',\n",
       " 'original_images/132.png',\n",
       " 'original_images/133.png',\n",
       " 'original_images/134.png',\n",
       " 'original_images/135.png',\n",
       " 'original_images/136.png',\n",
       " 'original_images/137.png',\n",
       " 'original_images/138.png',\n",
       " 'original_images/139.png',\n",
       " 'original_images/140.png',\n",
       " 'original_images/141.png',\n",
       " 'original_images/142.png',\n",
       " 'original_images/143.png',\n",
       " 'original_images/144.png',\n",
       " 'original_images/145.png',\n",
       " 'original_images/146.png',\n",
       " 'original_images/147.png',\n",
       " 'original_images/148.png',\n",
       " 'original_images/149.png',\n",
       " 'original_images/150.png',\n",
       " 'original_images/151.png',\n",
       " 'original_images/152.png',\n",
       " 'original_images/153.png',\n",
       " 'original_images/154.png',\n",
       " 'original_images/images.png',\n",
       " 'original_images/images2.png',\n",
       " 'original_images/images3.png',\n",
       " 'original_images/images4.png',\n",
       " 'original_images/images10.png',\n",
       " 'original_images/images11.png',\n",
       " 'original_images/images12.png',\n",
       " 'original_images/images13.png',\n",
       " 'original_images/images14.png',\n",
       " 'original_images/images15.png',\n",
       " 'original_images/images16.png',\n",
       " 'original_images/images18.png',\n",
       " 'original_images/images19.png',\n",
       " 'original_images/images20.png',\n",
       " 'original_images/images21.png',\n",
       " 'original_images/images22.png',\n",
       " 'original_images/images23.png',\n",
       " 'original_images/images24.png',\n",
       " 'original_images/images25.png',\n",
       " 'original_images/images26.png',\n",
       " 'original_images/images27.png',\n",
       " 'original_images/images28.png',\n",
       " 'original_images/images29.png',\n",
       " 'original_images/images30.png',\n",
       " 'original_images/images31.png',\n",
       " 'original_images/images32.png',\n",
       " 'original_images/images33.png',\n",
       " 'original_images/images34.png',\n",
       " 'original_images/images35.png',\n",
       " 'original_images/images36.png',\n",
       " 'original_images/images38.png',\n",
       " 'original_images/images39.png',\n",
       " 'original_images/images40.png',\n",
       " 'original_images/images41.png',\n",
       " 'original_images/images43.png',\n",
       " 'original_images/images44.png',\n",
       " 'original_images/images45.png',\n",
       " 'original_images/images-2.png',\n",
       " 'original_images/images-3.png']"
      ]
     },
     "execution_count": 11,
     "metadata": {},
     "output_type": "execute_result"
    }
   ],
   "source": [
    "from sklearn.model_selection import train_test_split\n",
    "\n",
    "transforms_train = A.Compose([\n",
    "    A.HorizontalFlip(p=0.5),\n",
    "    A.VerticalFlip(p=0.5),\n",
    "    A.Resize(img_shape[0], img_shape[1]),\n",
    "#     A.OneOf([\n",
    "#         A.OpticalDistortion(distort_limit=1.0),\n",
    "#         A.GridDistortion(num_steps=5, distort_limit=1.),\n",
    "#         A.ElasticTransform(alpha=3),\n",
    "#     ], p=0.75),\n",
    "\n",
    "    A.ShiftScaleRotate(shift_limit=0.1, scale_limit=0.1, rotate_limit=15, border_mode=0, p=0.75),\n",
    "    A.Normalize(mean=0.5, std=0.5)\n",
    "])\n",
    "transforms_val = A.Compose([\n",
    "    A.Resize(img_shape[0], img_shape[1]),\n",
    "    A.Normalize(mean=0.5, std=0.5)\n",
    "])\n",
    "\n",
    "ds = 'original_images'\n",
    "images_pathes = glob(f'{ds}/*')\n",
    "tim_path = []\n",
    "tim_path.extend([os.path.join(f'{ds}', str(i) + '.png') for i in range(155) \n",
    "                 if os.path.join(f'{ds}', str(i) + '.png') in images_pathes])\n",
    "tim_path.append(f'{ds}/images.png')\n",
    "tim_path.extend([os.path.join(f'{ds}', 'images' + str(i) + '.png') for i in range(155) \n",
    "                 if os.path.join(f'{ds}', 'images' + str(i) + '.png') in images_pathes])\n",
    "tim_path.append(f'{ds}/images-2.png')\n",
    "tim_path.append(f'{ds}/images-3.png')\n",
    "\n",
    "train, test, labels_train, labels_test = train_test_split(tim_path, labels, random_state=random_state,\n",
    "                                                          test_size=0.2)\n",
    "train_ds = TypeDataset(train, labels_train, transform=transforms_train)\n",
    "test_ds = TypeDataset(test, labels_test, transform=transforms_val)\n",
    "tim_path"
   ]
  },
  {
   "cell_type": "code",
   "execution_count": 12,
   "id": "440ffdae",
   "metadata": {},
   "outputs": [
    {
     "data": {
      "text/plain": [
       "48"
      ]
     },
     "execution_count": 12,
     "metadata": {},
     "output_type": "execute_result"
    }
   ],
   "source": [
    "sum(labels_train)"
   ]
  },
  {
   "cell_type": "code",
   "execution_count": 13,
   "id": "5a39a648",
   "metadata": {},
   "outputs": [],
   "source": [
    "train_dl = DataLoader(train_ds, batch_size=batch_size, shuffle=True, pin_memory=False)\n",
    "test_dl = DataLoader(test_ds, batch_size=batch_size, shuffle=True, pin_memory=False)"
   ]
  },
  {
   "cell_type": "code",
   "execution_count": 14,
   "id": "8c119699",
   "metadata": {},
   "outputs": [
    {
     "data": {
      "application/vnd.jupyter.widget-view+json": {
       "model_id": "07ced2ba946641368d227ae715f0550e",
       "version_major": 2,
       "version_minor": 0
      },
      "text/plain": [
       "  0%|          | 0/19 [00:00<?, ?it/s]"
      ]
     },
     "metadata": {},
     "output_type": "display_data"
    },
    {
     "name": "stdout",
     "output_type": "stream",
     "text": [
      "epoch: 1: acc: 0.8947368421052632 f1: 0.75\n"
     ]
    },
    {
     "data": {
      "application/vnd.jupyter.widget-view+json": {
       "model_id": "15f75c3a32e645bb8375608f231004c4",
       "version_major": 2,
       "version_minor": 0
      },
      "text/plain": [
       "  0%|          | 0/19 [00:00<?, ?it/s]"
      ]
     },
     "metadata": {},
     "output_type": "display_data"
    },
    {
     "name": "stdout",
     "output_type": "stream",
     "text": [
      "epoch: 2: acc: 0.8421052631578947 f1: 0.5\n"
     ]
    },
    {
     "data": {
      "application/vnd.jupyter.widget-view+json": {
       "model_id": "0c322eacab724c64b89659d6708e8147",
       "version_major": 2,
       "version_minor": 0
      },
      "text/plain": [
       "  0%|          | 0/19 [00:00<?, ?it/s]"
      ]
     },
     "metadata": {},
     "output_type": "display_data"
    },
    {
     "name": "stdout",
     "output_type": "stream",
     "text": [
      "epoch: 3: acc: 0.8947368421052632 f1: 0.75\n"
     ]
    },
    {
     "data": {
      "application/vnd.jupyter.widget-view+json": {
       "model_id": "aeb4a3c1537f48f8b4f3430d84fc3663",
       "version_major": 2,
       "version_minor": 0
      },
      "text/plain": [
       "  0%|          | 0/19 [00:00<?, ?it/s]"
      ]
     },
     "metadata": {},
     "output_type": "display_data"
    },
    {
     "name": "stdout",
     "output_type": "stream",
     "text": [
      "epoch: 4: acc: 0.8947368421052632 f1: 0.7777777777777778\n"
     ]
    },
    {
     "data": {
      "application/vnd.jupyter.widget-view+json": {
       "model_id": "3764d7d35ec642c9ab39ab1de032ab09",
       "version_major": 2,
       "version_minor": 0
      },
      "text/plain": [
       "  0%|          | 0/19 [00:00<?, ?it/s]"
      ]
     },
     "metadata": {},
     "output_type": "display_data"
    },
    {
     "name": "stdout",
     "output_type": "stream",
     "text": [
      "epoch: 5: acc: 0.8947368421052632 f1: 0.7777777777777778\n"
     ]
    },
    {
     "data": {
      "application/vnd.jupyter.widget-view+json": {
       "model_id": "a0b2c93de99f4cac8a293ee6d2fa069f",
       "version_major": 2,
       "version_minor": 0
      },
      "text/plain": [
       "  0%|          | 0/19 [00:00<?, ?it/s]"
      ]
     },
     "metadata": {},
     "output_type": "display_data"
    },
    {
     "name": "stdout",
     "output_type": "stream",
     "text": [
      "epoch: 6: acc: 0.8947368421052632 f1: 0.75\n"
     ]
    },
    {
     "data": {
      "application/vnd.jupyter.widget-view+json": {
       "model_id": "307ee1f9baa64013b4d4e01c34a9b744",
       "version_major": 2,
       "version_minor": 0
      },
      "text/plain": [
       "  0%|          | 0/19 [00:00<?, ?it/s]"
      ]
     },
     "metadata": {},
     "output_type": "display_data"
    },
    {
     "name": "stdout",
     "output_type": "stream",
     "text": [
      "epoch: 7: acc: 0.8947368421052632 f1: 0.75\n"
     ]
    },
    {
     "data": {
      "application/vnd.jupyter.widget-view+json": {
       "model_id": "6ff8dc215eea48c3ac0fb7b4eaf35c33",
       "version_major": 2,
       "version_minor": 0
      },
      "text/plain": [
       "  0%|          | 0/19 [00:00<?, ?it/s]"
      ]
     },
     "metadata": {},
     "output_type": "display_data"
    },
    {
     "name": "stdout",
     "output_type": "stream",
     "text": [
      "epoch: 8: acc: 0.868421052631579 f1: 0.6666666666666666\n"
     ]
    },
    {
     "data": {
      "application/vnd.jupyter.widget-view+json": {
       "model_id": "c9d9dc905c5a47c6be747e4d7e8b5710",
       "version_major": 2,
       "version_minor": 0
      },
      "text/plain": [
       "  0%|          | 0/19 [00:00<?, ?it/s]"
      ]
     },
     "metadata": {},
     "output_type": "display_data"
    },
    {
     "name": "stdout",
     "output_type": "stream",
     "text": [
      "epoch: 9: acc: 0.8947368421052632 f1: 0.75\n"
     ]
    },
    {
     "data": {
      "application/vnd.jupyter.widget-view+json": {
       "model_id": "4d8abe30688c4606845a1cdb4403ac47",
       "version_major": 2,
       "version_minor": 0
      },
      "text/plain": [
       "  0%|          | 0/19 [00:00<?, ?it/s]"
      ]
     },
     "metadata": {},
     "output_type": "display_data"
    },
    {
     "name": "stdout",
     "output_type": "stream",
     "text": [
      "epoch: 10: acc: 0.868421052631579 f1: 0.7058823529411765\n"
     ]
    },
    {
     "data": {
      "application/vnd.jupyter.widget-view+json": {
       "model_id": "6b5866379c10410d8641321a6d80a34a",
       "version_major": 2,
       "version_minor": 0
      },
      "text/plain": [
       "  0%|          | 0/19 [00:00<?, ?it/s]"
      ]
     },
     "metadata": {},
     "output_type": "display_data"
    },
    {
     "name": "stdout",
     "output_type": "stream",
     "text": [
      "epoch: 11: acc: 0.8421052631578947 f1: 0.6666666666666666\n"
     ]
    },
    {
     "data": {
      "application/vnd.jupyter.widget-view+json": {
       "model_id": "51415b7bc9f94d7eb5ea5b1c80dc75c7",
       "version_major": 2,
       "version_minor": 0
      },
      "text/plain": [
       "  0%|          | 0/19 [00:00<?, ?it/s]"
      ]
     },
     "metadata": {},
     "output_type": "display_data"
    },
    {
     "name": "stdout",
     "output_type": "stream",
     "text": [
      "epoch: 12: acc: 0.868421052631579 f1: 0.7058823529411765\n"
     ]
    },
    {
     "data": {
      "application/vnd.jupyter.widget-view+json": {
       "model_id": "0a50b26f70e64190a6997df2a81dc574",
       "version_major": 2,
       "version_minor": 0
      },
      "text/plain": [
       "  0%|          | 0/19 [00:00<?, ?it/s]"
      ]
     },
     "metadata": {},
     "output_type": "display_data"
    },
    {
     "name": "stdout",
     "output_type": "stream",
     "text": [
      "epoch: 13: acc: 0.8947368421052632 f1: 0.75\n"
     ]
    },
    {
     "data": {
      "application/vnd.jupyter.widget-view+json": {
       "model_id": "0455792ebe12412d837d15939ed2a543",
       "version_major": 2,
       "version_minor": 0
      },
      "text/plain": [
       "  0%|          | 0/19 [00:00<?, ?it/s]"
      ]
     },
     "metadata": {},
     "output_type": "display_data"
    },
    {
     "name": "stdout",
     "output_type": "stream",
     "text": [
      "epoch: 14: acc: 0.8947368421052632 f1: 0.75\n"
     ]
    },
    {
     "data": {
      "application/vnd.jupyter.widget-view+json": {
       "model_id": "3ff812baa5e2413a89e5053f9786772f",
       "version_major": 2,
       "version_minor": 0
      },
      "text/plain": [
       "  0%|          | 0/19 [00:00<?, ?it/s]"
      ]
     },
     "metadata": {},
     "output_type": "display_data"
    },
    {
     "name": "stdout",
     "output_type": "stream",
     "text": [
      "epoch: 15: acc: 0.868421052631579 f1: 0.6666666666666666\n"
     ]
    },
    {
     "data": {
      "application/vnd.jupyter.widget-view+json": {
       "model_id": "93824c0b171446289cf508c79da3c08f",
       "version_major": 2,
       "version_minor": 0
      },
      "text/plain": [
       "  0%|          | 0/19 [00:00<?, ?it/s]"
      ]
     },
     "metadata": {},
     "output_type": "display_data"
    },
    {
     "name": "stdout",
     "output_type": "stream",
     "text": [
      "epoch: 16: acc: 0.868421052631579 f1: 0.7058823529411765\n"
     ]
    },
    {
     "data": {
      "application/vnd.jupyter.widget-view+json": {
       "model_id": "dbf58d82ea384a1eb7cdf14b7cfb0951",
       "version_major": 2,
       "version_minor": 0
      },
      "text/plain": [
       "  0%|          | 0/19 [00:00<?, ?it/s]"
      ]
     },
     "metadata": {},
     "output_type": "display_data"
    },
    {
     "name": "stdout",
     "output_type": "stream",
     "text": [
      "epoch: 17: acc: 0.868421052631579 f1: 0.7058823529411765\n"
     ]
    },
    {
     "data": {
      "application/vnd.jupyter.widget-view+json": {
       "model_id": "a94ab679a2814b8abaeaa14f69b06f47",
       "version_major": 2,
       "version_minor": 0
      },
      "text/plain": [
       "  0%|          | 0/19 [00:00<?, ?it/s]"
      ]
     },
     "metadata": {},
     "output_type": "display_data"
    },
    {
     "name": "stdout",
     "output_type": "stream",
     "text": [
      "epoch: 18: acc: 0.868421052631579 f1: 0.7058823529411765\n"
     ]
    },
    {
     "data": {
      "application/vnd.jupyter.widget-view+json": {
       "model_id": "e772018e8fc24a459d5fbb772cb6e305",
       "version_major": 2,
       "version_minor": 0
      },
      "text/plain": [
       "  0%|          | 0/19 [00:00<?, ?it/s]"
      ]
     },
     "metadata": {},
     "output_type": "display_data"
    },
    {
     "name": "stdout",
     "output_type": "stream",
     "text": [
      "epoch: 19: acc: 0.868421052631579 f1: 0.7058823529411765\n"
     ]
    },
    {
     "data": {
      "application/vnd.jupyter.widget-view+json": {
       "model_id": "1f177fd1c77c4ce4a1a226e46e6b3c87",
       "version_major": 2,
       "version_minor": 0
      },
      "text/plain": [
       "  0%|          | 0/19 [00:00<?, ?it/s]"
      ]
     },
     "metadata": {},
     "output_type": "display_data"
    },
    {
     "name": "stdout",
     "output_type": "stream",
     "text": [
      "epoch: 20: acc: 0.8421052631578947 f1: 0.6666666666666666\n"
     ]
    },
    {
     "data": {
      "application/vnd.jupyter.widget-view+json": {
       "model_id": "ea293822c4e347ed9a6dfc0ad61567a8",
       "version_major": 2,
       "version_minor": 0
      },
      "text/plain": [
       "  0%|          | 0/19 [00:00<?, ?it/s]"
      ]
     },
     "metadata": {},
     "output_type": "display_data"
    },
    {
     "name": "stdout",
     "output_type": "stream",
     "text": [
      "epoch: 21: acc: 0.868421052631579 f1: 0.7058823529411765\n"
     ]
    },
    {
     "data": {
      "application/vnd.jupyter.widget-view+json": {
       "model_id": "fbcc8b3d2ea44204af5b1c3c0c50bfc6",
       "version_major": 2,
       "version_minor": 0
      },
      "text/plain": [
       "  0%|          | 0/19 [00:00<?, ?it/s]"
      ]
     },
     "metadata": {},
     "output_type": "display_data"
    },
    {
     "name": "stdout",
     "output_type": "stream",
     "text": [
      "epoch: 22: acc: 0.868421052631579 f1: 0.7058823529411765\n"
     ]
    },
    {
     "data": {
      "application/vnd.jupyter.widget-view+json": {
       "model_id": "d43d8d3b9bc14252a25006716fd2a48b",
       "version_major": 2,
       "version_minor": 0
      },
      "text/plain": [
       "  0%|          | 0/19 [00:00<?, ?it/s]"
      ]
     },
     "metadata": {},
     "output_type": "display_data"
    },
    {
     "name": "stdout",
     "output_type": "stream",
     "text": [
      "epoch: 23: acc: 0.868421052631579 f1: 0.7058823529411765\n"
     ]
    },
    {
     "data": {
      "application/vnd.jupyter.widget-view+json": {
       "model_id": "2aac9714493040c9bcfced9f6153e875",
       "version_major": 2,
       "version_minor": 0
      },
      "text/plain": [
       "  0%|          | 0/19 [00:00<?, ?it/s]"
      ]
     },
     "metadata": {},
     "output_type": "display_data"
    },
    {
     "name": "stdout",
     "output_type": "stream",
     "text": [
      "epoch: 24: acc: 0.868421052631579 f1: 0.7058823529411765\n"
     ]
    },
    {
     "data": {
      "application/vnd.jupyter.widget-view+json": {
       "model_id": "ac14ea8958f94d7191ca63226b2adee3",
       "version_major": 2,
       "version_minor": 0
      },
      "text/plain": [
       "  0%|          | 0/19 [00:00<?, ?it/s]"
      ]
     },
     "metadata": {},
     "output_type": "display_data"
    },
    {
     "name": "stdout",
     "output_type": "stream",
     "text": [
      "epoch: 25: acc: 0.868421052631579 f1: 0.7058823529411765\n"
     ]
    },
    {
     "data": {
      "application/vnd.jupyter.widget-view+json": {
       "model_id": "dd63164d9f22441e95d6e53aad043621",
       "version_major": 2,
       "version_minor": 0
      },
      "text/plain": [
       "  0%|          | 0/19 [00:00<?, ?it/s]"
      ]
     },
     "metadata": {},
     "output_type": "display_data"
    },
    {
     "name": "stdout",
     "output_type": "stream",
     "text": [
      "epoch: 26: acc: 0.868421052631579 f1: 0.7058823529411765\n"
     ]
    },
    {
     "data": {
      "application/vnd.jupyter.widget-view+json": {
       "model_id": "c7dd5e72e6474cdb881a156d1818186f",
       "version_major": 2,
       "version_minor": 0
      },
      "text/plain": [
       "  0%|          | 0/19 [00:00<?, ?it/s]"
      ]
     },
     "metadata": {},
     "output_type": "display_data"
    },
    {
     "name": "stdout",
     "output_type": "stream",
     "text": [
      "epoch: 27: acc: 0.868421052631579 f1: 0.7058823529411765\n"
     ]
    },
    {
     "data": {
      "application/vnd.jupyter.widget-view+json": {
       "model_id": "aa3b91d977ff4580acf38edb49cde338",
       "version_major": 2,
       "version_minor": 0
      },
      "text/plain": [
       "  0%|          | 0/19 [00:00<?, ?it/s]"
      ]
     },
     "metadata": {},
     "output_type": "display_data"
    },
    {
     "name": "stdout",
     "output_type": "stream",
     "text": [
      "epoch: 28: acc: 0.868421052631579 f1: 0.7058823529411765\n"
     ]
    },
    {
     "data": {
      "application/vnd.jupyter.widget-view+json": {
       "model_id": "45c4f73fb85746baa4e7b5b54696936c",
       "version_major": 2,
       "version_minor": 0
      },
      "text/plain": [
       "  0%|          | 0/19 [00:00<?, ?it/s]"
      ]
     },
     "metadata": {},
     "output_type": "display_data"
    },
    {
     "name": "stdout",
     "output_type": "stream",
     "text": [
      "epoch: 29: acc: 0.8421052631578947 f1: 0.6666666666666666\n"
     ]
    },
    {
     "data": {
      "application/vnd.jupyter.widget-view+json": {
       "model_id": "461fdad9c42a4e48871acef02a204619",
       "version_major": 2,
       "version_minor": 0
      },
      "text/plain": [
       "  0%|          | 0/19 [00:00<?, ?it/s]"
      ]
     },
     "metadata": {},
     "output_type": "display_data"
    },
    {
     "name": "stdout",
     "output_type": "stream",
     "text": [
      "epoch: 30: acc: 0.868421052631579 f1: 0.7058823529411765\n"
     ]
    },
    {
     "data": {
      "application/vnd.jupyter.widget-view+json": {
       "model_id": "5e16d46169384393a02d1a93a82ac5ea",
       "version_major": 2,
       "version_minor": 0
      },
      "text/plain": [
       "  0%|          | 0/19 [00:00<?, ?it/s]"
      ]
     },
     "metadata": {},
     "output_type": "display_data"
    },
    {
     "name": "stdout",
     "output_type": "stream",
     "text": [
      "epoch: 31: acc: 0.868421052631579 f1: 0.7058823529411765\n"
     ]
    },
    {
     "data": {
      "application/vnd.jupyter.widget-view+json": {
       "model_id": "11e5675da8fe4026b63d5f737b6b03e8",
       "version_major": 2,
       "version_minor": 0
      },
      "text/plain": [
       "  0%|          | 0/19 [00:00<?, ?it/s]"
      ]
     },
     "metadata": {},
     "output_type": "display_data"
    },
    {
     "name": "stdout",
     "output_type": "stream",
     "text": [
      "epoch: 32: acc: 0.868421052631579 f1: 0.7058823529411765\n"
     ]
    },
    {
     "data": {
      "application/vnd.jupyter.widget-view+json": {
       "model_id": "3f4a1758e76d46e78c2792c2180d7249",
       "version_major": 2,
       "version_minor": 0
      },
      "text/plain": [
       "  0%|          | 0/19 [00:00<?, ?it/s]"
      ]
     },
     "metadata": {},
     "output_type": "display_data"
    },
    {
     "name": "stdout",
     "output_type": "stream",
     "text": [
      "epoch: 33: acc: 0.868421052631579 f1: 0.7058823529411765\n"
     ]
    },
    {
     "data": {
      "application/vnd.jupyter.widget-view+json": {
       "model_id": "25c937d6d5aa40caada572b05640cbac",
       "version_major": 2,
       "version_minor": 0
      },
      "text/plain": [
       "  0%|          | 0/19 [00:00<?, ?it/s]"
      ]
     },
     "metadata": {},
     "output_type": "display_data"
    },
    {
     "name": "stdout",
     "output_type": "stream",
     "text": [
      "epoch: 34: acc: 0.868421052631579 f1: 0.7058823529411765\n"
     ]
    },
    {
     "data": {
      "application/vnd.jupyter.widget-view+json": {
       "model_id": "092b4b6125904d1eb11f005fbf8a9870",
       "version_major": 2,
       "version_minor": 0
      },
      "text/plain": [
       "  0%|          | 0/19 [00:00<?, ?it/s]"
      ]
     },
     "metadata": {},
     "output_type": "display_data"
    },
    {
     "name": "stdout",
     "output_type": "stream",
     "text": [
      "epoch: 35: acc: 0.868421052631579 f1: 0.7058823529411765\n"
     ]
    },
    {
     "data": {
      "application/vnd.jupyter.widget-view+json": {
       "model_id": "911fbf79650f44ed9e488d2ff4a216f1",
       "version_major": 2,
       "version_minor": 0
      },
      "text/plain": [
       "  0%|          | 0/19 [00:00<?, ?it/s]"
      ]
     },
     "metadata": {},
     "output_type": "display_data"
    },
    {
     "name": "stdout",
     "output_type": "stream",
     "text": [
      "epoch: 36: acc: 0.868421052631579 f1: 0.7058823529411765\n"
     ]
    },
    {
     "data": {
      "application/vnd.jupyter.widget-view+json": {
       "model_id": "96d18d643b9c486bb92f8656959d6f6b",
       "version_major": 2,
       "version_minor": 0
      },
      "text/plain": [
       "  0%|          | 0/19 [00:00<?, ?it/s]"
      ]
     },
     "metadata": {},
     "output_type": "display_data"
    },
    {
     "name": "stdout",
     "output_type": "stream",
     "text": [
      "epoch: 37: acc: 0.868421052631579 f1: 0.7058823529411765\n"
     ]
    },
    {
     "data": {
      "application/vnd.jupyter.widget-view+json": {
       "model_id": "fbb0e6e70b844f63b96308dff4050f55",
       "version_major": 2,
       "version_minor": 0
      },
      "text/plain": [
       "  0%|          | 0/19 [00:00<?, ?it/s]"
      ]
     },
     "metadata": {},
     "output_type": "display_data"
    },
    {
     "name": "stdout",
     "output_type": "stream",
     "text": [
      "epoch: 38: acc: 0.868421052631579 f1: 0.7058823529411765\n"
     ]
    },
    {
     "data": {
      "application/vnd.jupyter.widget-view+json": {
       "model_id": "7f175df4cb5f473cb1a1d14b1e90cc02",
       "version_major": 2,
       "version_minor": 0
      },
      "text/plain": [
       "  0%|          | 0/19 [00:00<?, ?it/s]"
      ]
     },
     "metadata": {},
     "output_type": "display_data"
    },
    {
     "name": "stdout",
     "output_type": "stream",
     "text": [
      "epoch: 39: acc: 0.868421052631579 f1: 0.7058823529411765\n"
     ]
    },
    {
     "data": {
      "application/vnd.jupyter.widget-view+json": {
       "model_id": "849d41b583534256977d94e3eb4c3e69",
       "version_major": 2,
       "version_minor": 0
      },
      "text/plain": [
       "  0%|          | 0/19 [00:00<?, ?it/s]"
      ]
     },
     "metadata": {},
     "output_type": "display_data"
    },
    {
     "name": "stdout",
     "output_type": "stream",
     "text": [
      "epoch: 40: acc: 0.868421052631579 f1: 0.7058823529411765\n"
     ]
    },
    {
     "data": {
      "application/vnd.jupyter.widget-view+json": {
       "model_id": "c5c93e1b812447659e84d814b254af5a",
       "version_major": 2,
       "version_minor": 0
      },
      "text/plain": [
       "  0%|          | 0/19 [00:00<?, ?it/s]"
      ]
     },
     "metadata": {},
     "output_type": "display_data"
    },
    {
     "name": "stdout",
     "output_type": "stream",
     "text": [
      "epoch: 41: acc: 0.868421052631579 f1: 0.7058823529411765\n"
     ]
    },
    {
     "data": {
      "application/vnd.jupyter.widget-view+json": {
       "model_id": "076b61dbc170464fa0593af1b0bce3a2",
       "version_major": 2,
       "version_minor": 0
      },
      "text/plain": [
       "  0%|          | 0/19 [00:00<?, ?it/s]"
      ]
     },
     "metadata": {},
     "output_type": "display_data"
    },
    {
     "name": "stdout",
     "output_type": "stream",
     "text": [
      "epoch: 42: acc: 0.868421052631579 f1: 0.7058823529411765\n"
     ]
    },
    {
     "data": {
      "application/vnd.jupyter.widget-view+json": {
       "model_id": "47645ec3c6624790ad39da36cd0e04bc",
       "version_major": 2,
       "version_minor": 0
      },
      "text/plain": [
       "  0%|          | 0/19 [00:00<?, ?it/s]"
      ]
     },
     "metadata": {},
     "output_type": "display_data"
    },
    {
     "name": "stdout",
     "output_type": "stream",
     "text": [
      "epoch: 43: acc: 0.868421052631579 f1: 0.7058823529411765\n"
     ]
    },
    {
     "data": {
      "application/vnd.jupyter.widget-view+json": {
       "model_id": "4a32a451eaf8495d9a5a0d7e330d0dc2",
       "version_major": 2,
       "version_minor": 0
      },
      "text/plain": [
       "  0%|          | 0/19 [00:00<?, ?it/s]"
      ]
     },
     "metadata": {},
     "output_type": "display_data"
    },
    {
     "name": "stdout",
     "output_type": "stream",
     "text": [
      "epoch: 44: acc: 0.868421052631579 f1: 0.7058823529411765\n"
     ]
    },
    {
     "data": {
      "application/vnd.jupyter.widget-view+json": {
       "model_id": "76f6cfad0b304f67be48825b0fafa126",
       "version_major": 2,
       "version_minor": 0
      },
      "text/plain": [
       "  0%|          | 0/19 [00:00<?, ?it/s]"
      ]
     },
     "metadata": {},
     "output_type": "display_data"
    },
    {
     "name": "stdout",
     "output_type": "stream",
     "text": [
      "epoch: 45: acc: 0.868421052631579 f1: 0.7058823529411765\n"
     ]
    },
    {
     "data": {
      "application/vnd.jupyter.widget-view+json": {
       "model_id": "6cfb1960ce8c4228bb46f9376256f20f",
       "version_major": 2,
       "version_minor": 0
      },
      "text/plain": [
       "  0%|          | 0/19 [00:00<?, ?it/s]"
      ]
     },
     "metadata": {},
     "output_type": "display_data"
    },
    {
     "name": "stdout",
     "output_type": "stream",
     "text": [
      "epoch: 46: acc: 0.868421052631579 f1: 0.7058823529411765\n"
     ]
    },
    {
     "data": {
      "application/vnd.jupyter.widget-view+json": {
       "model_id": "a3690fb42f914775813610490e191bae",
       "version_major": 2,
       "version_minor": 0
      },
      "text/plain": [
       "  0%|          | 0/19 [00:00<?, ?it/s]"
      ]
     },
     "metadata": {},
     "output_type": "display_data"
    },
    {
     "name": "stdout",
     "output_type": "stream",
     "text": [
      "epoch: 47: acc: 0.868421052631579 f1: 0.7058823529411765\n"
     ]
    },
    {
     "data": {
      "application/vnd.jupyter.widget-view+json": {
       "model_id": "574aee8d65a14d8982c24ad4de34848a",
       "version_major": 2,
       "version_minor": 0
      },
      "text/plain": [
       "  0%|          | 0/19 [00:00<?, ?it/s]"
      ]
     },
     "metadata": {},
     "output_type": "display_data"
    },
    {
     "name": "stdout",
     "output_type": "stream",
     "text": [
      "epoch: 48: acc: 0.868421052631579 f1: 0.7058823529411765\n"
     ]
    },
    {
     "data": {
      "application/vnd.jupyter.widget-view+json": {
       "model_id": "b5368a57bda446328f930b2e84b45c51",
       "version_major": 2,
       "version_minor": 0
      },
      "text/plain": [
       "  0%|          | 0/19 [00:00<?, ?it/s]"
      ]
     },
     "metadata": {},
     "output_type": "display_data"
    },
    {
     "name": "stdout",
     "output_type": "stream",
     "text": [
      "epoch: 49: acc: 0.868421052631579 f1: 0.7058823529411765\n"
     ]
    },
    {
     "data": {
      "application/vnd.jupyter.widget-view+json": {
       "model_id": "2768e1a36d964ed6850914bedc6c2f95",
       "version_major": 2,
       "version_minor": 0
      },
      "text/plain": [
       "  0%|          | 0/19 [00:00<?, ?it/s]"
      ]
     },
     "metadata": {},
     "output_type": "display_data"
    },
    {
     "name": "stdout",
     "output_type": "stream",
     "text": [
      "epoch: 50: acc: 0.868421052631579 f1: 0.7058823529411765\n"
     ]
    },
    {
     "data": {
      "application/vnd.jupyter.widget-view+json": {
       "model_id": "c68bc76ab2034bf28d4c800af5b5fce9",
       "version_major": 2,
       "version_minor": 0
      },
      "text/plain": [
       "  0%|          | 0/19 [00:00<?, ?it/s]"
      ]
     },
     "metadata": {},
     "output_type": "display_data"
    },
    {
     "name": "stdout",
     "output_type": "stream",
     "text": [
      "epoch: 51: acc: 0.868421052631579 f1: 0.7058823529411765\n"
     ]
    },
    {
     "data": {
      "application/vnd.jupyter.widget-view+json": {
       "model_id": "9598952015c3459ebff5c1c95b8b9bd5",
       "version_major": 2,
       "version_minor": 0
      },
      "text/plain": [
       "  0%|          | 0/19 [00:00<?, ?it/s]"
      ]
     },
     "metadata": {},
     "output_type": "display_data"
    },
    {
     "name": "stdout",
     "output_type": "stream",
     "text": [
      "epoch: 52: acc: 0.868421052631579 f1: 0.7058823529411765\n"
     ]
    },
    {
     "data": {
      "application/vnd.jupyter.widget-view+json": {
       "model_id": "1ed1c5995806497580539452f4d31ac9",
       "version_major": 2,
       "version_minor": 0
      },
      "text/plain": [
       "  0%|          | 0/19 [00:00<?, ?it/s]"
      ]
     },
     "metadata": {},
     "output_type": "display_data"
    },
    {
     "name": "stdout",
     "output_type": "stream",
     "text": [
      "epoch: 53: acc: 0.868421052631579 f1: 0.7058823529411765\n"
     ]
    },
    {
     "data": {
      "application/vnd.jupyter.widget-view+json": {
       "model_id": "689504efe4ea45caa7e84cbf3286accb",
       "version_major": 2,
       "version_minor": 0
      },
      "text/plain": [
       "  0%|          | 0/19 [00:00<?, ?it/s]"
      ]
     },
     "metadata": {},
     "output_type": "display_data"
    },
    {
     "name": "stdout",
     "output_type": "stream",
     "text": [
      "epoch: 54: acc: 0.868421052631579 f1: 0.7058823529411765\n"
     ]
    },
    {
     "data": {
      "application/vnd.jupyter.widget-view+json": {
       "model_id": "b781c62ecbcb4aa2bb9d87860bfd10e0",
       "version_major": 2,
       "version_minor": 0
      },
      "text/plain": [
       "  0%|          | 0/19 [00:00<?, ?it/s]"
      ]
     },
     "metadata": {},
     "output_type": "display_data"
    },
    {
     "name": "stdout",
     "output_type": "stream",
     "text": [
      "epoch: 55: acc: 0.868421052631579 f1: 0.7058823529411765\n"
     ]
    },
    {
     "data": {
      "application/vnd.jupyter.widget-view+json": {
       "model_id": "fd0dd628b07a4efc97a136e9ee6afeb9",
       "version_major": 2,
       "version_minor": 0
      },
      "text/plain": [
       "  0%|          | 0/19 [00:00<?, ?it/s]"
      ]
     },
     "metadata": {},
     "output_type": "display_data"
    },
    {
     "name": "stdout",
     "output_type": "stream",
     "text": [
      "epoch: 56: acc: 0.868421052631579 f1: 0.7058823529411765\n"
     ]
    },
    {
     "data": {
      "application/vnd.jupyter.widget-view+json": {
       "model_id": "de73a50e871b447ba763d6ae5fba51ce",
       "version_major": 2,
       "version_minor": 0
      },
      "text/plain": [
       "  0%|          | 0/19 [00:00<?, ?it/s]"
      ]
     },
     "metadata": {},
     "output_type": "display_data"
    },
    {
     "name": "stdout",
     "output_type": "stream",
     "text": [
      "epoch: 57: acc: 0.868421052631579 f1: 0.7058823529411765\n"
     ]
    },
    {
     "data": {
      "application/vnd.jupyter.widget-view+json": {
       "model_id": "bd30cc4790e048689ca010d777feaf02",
       "version_major": 2,
       "version_minor": 0
      },
      "text/plain": [
       "  0%|          | 0/19 [00:00<?, ?it/s]"
      ]
     },
     "metadata": {},
     "output_type": "display_data"
    },
    {
     "name": "stdout",
     "output_type": "stream",
     "text": [
      "epoch: 58: acc: 0.868421052631579 f1: 0.7058823529411765\n"
     ]
    },
    {
     "data": {
      "application/vnd.jupyter.widget-view+json": {
       "model_id": "8eab835211a24e0781f81b9364939d56",
       "version_major": 2,
       "version_minor": 0
      },
      "text/plain": [
       "  0%|          | 0/19 [00:00<?, ?it/s]"
      ]
     },
     "metadata": {},
     "output_type": "display_data"
    },
    {
     "name": "stdout",
     "output_type": "stream",
     "text": [
      "epoch: 59: acc: 0.868421052631579 f1: 0.7058823529411765\n"
     ]
    },
    {
     "data": {
      "application/vnd.jupyter.widget-view+json": {
       "model_id": "1957d0dbb23e49d7b29f206f66d2f1fa",
       "version_major": 2,
       "version_minor": 0
      },
      "text/plain": [
       "  0%|          | 0/19 [00:00<?, ?it/s]"
      ]
     },
     "metadata": {},
     "output_type": "display_data"
    },
    {
     "name": "stdout",
     "output_type": "stream",
     "text": [
      "epoch: 60: acc: 0.868421052631579 f1: 0.7058823529411765\n"
     ]
    },
    {
     "data": {
      "application/vnd.jupyter.widget-view+json": {
       "model_id": "c907f34d503c4fb5be57850ff84ca294",
       "version_major": 2,
       "version_minor": 0
      },
      "text/plain": [
       "  0%|          | 0/19 [00:00<?, ?it/s]"
      ]
     },
     "metadata": {},
     "output_type": "display_data"
    },
    {
     "name": "stdout",
     "output_type": "stream",
     "text": [
      "epoch: 61: acc: 0.868421052631579 f1: 0.7058823529411765\n"
     ]
    },
    {
     "data": {
      "application/vnd.jupyter.widget-view+json": {
       "model_id": "e64bfc6705144b598be8e64f0bd3d245",
       "version_major": 2,
       "version_minor": 0
      },
      "text/plain": [
       "  0%|          | 0/19 [00:00<?, ?it/s]"
      ]
     },
     "metadata": {},
     "output_type": "display_data"
    },
    {
     "name": "stdout",
     "output_type": "stream",
     "text": [
      "epoch: 62: acc: 0.868421052631579 f1: 0.7058823529411765\n"
     ]
    },
    {
     "data": {
      "application/vnd.jupyter.widget-view+json": {
       "model_id": "326a47ffb54e4605b19c7640ddb77023",
       "version_major": 2,
       "version_minor": 0
      },
      "text/plain": [
       "  0%|          | 0/19 [00:00<?, ?it/s]"
      ]
     },
     "metadata": {},
     "output_type": "display_data"
    },
    {
     "name": "stdout",
     "output_type": "stream",
     "text": [
      "epoch: 63: acc: 0.868421052631579 f1: 0.7058823529411765\n"
     ]
    },
    {
     "data": {
      "application/vnd.jupyter.widget-view+json": {
       "model_id": "e933f63fc4824170aaf8ed7d786d8797",
       "version_major": 2,
       "version_minor": 0
      },
      "text/plain": [
       "  0%|          | 0/19 [00:00<?, ?it/s]"
      ]
     },
     "metadata": {},
     "output_type": "display_data"
    },
    {
     "name": "stdout",
     "output_type": "stream",
     "text": [
      "epoch: 64: acc: 0.868421052631579 f1: 0.7058823529411765\n"
     ]
    },
    {
     "data": {
      "application/vnd.jupyter.widget-view+json": {
       "model_id": "a2c4a62fac534dc4ad6958f32a6af26b",
       "version_major": 2,
       "version_minor": 0
      },
      "text/plain": [
       "  0%|          | 0/19 [00:00<?, ?it/s]"
      ]
     },
     "metadata": {},
     "output_type": "display_data"
    },
    {
     "name": "stdout",
     "output_type": "stream",
     "text": [
      "epoch: 65: acc: 0.868421052631579 f1: 0.7058823529411765\n"
     ]
    },
    {
     "data": {
      "application/vnd.jupyter.widget-view+json": {
       "model_id": "3dffe83fad7e409da36db98d3166c067",
       "version_major": 2,
       "version_minor": 0
      },
      "text/plain": [
       "  0%|          | 0/19 [00:00<?, ?it/s]"
      ]
     },
     "metadata": {},
     "output_type": "display_data"
    },
    {
     "name": "stdout",
     "output_type": "stream",
     "text": [
      "epoch: 66: acc: 0.868421052631579 f1: 0.7058823529411765\n"
     ]
    },
    {
     "data": {
      "application/vnd.jupyter.widget-view+json": {
       "model_id": "e67c532a44164277a8ad1f6634532517",
       "version_major": 2,
       "version_minor": 0
      },
      "text/plain": [
       "  0%|          | 0/19 [00:00<?, ?it/s]"
      ]
     },
     "metadata": {},
     "output_type": "display_data"
    },
    {
     "name": "stdout",
     "output_type": "stream",
     "text": [
      "epoch: 67: acc: 0.868421052631579 f1: 0.7058823529411765\n"
     ]
    },
    {
     "data": {
      "application/vnd.jupyter.widget-view+json": {
       "model_id": "e47abaf5b98b4752afed3dfb23c81bf7",
       "version_major": 2,
       "version_minor": 0
      },
      "text/plain": [
       "  0%|          | 0/19 [00:00<?, ?it/s]"
      ]
     },
     "metadata": {},
     "output_type": "display_data"
    },
    {
     "name": "stdout",
     "output_type": "stream",
     "text": [
      "epoch: 68: acc: 0.868421052631579 f1: 0.7058823529411765\n"
     ]
    },
    {
     "data": {
      "application/vnd.jupyter.widget-view+json": {
       "model_id": "276ac73737c640949ce92a45a5296ecd",
       "version_major": 2,
       "version_minor": 0
      },
      "text/plain": [
       "  0%|          | 0/19 [00:00<?, ?it/s]"
      ]
     },
     "metadata": {},
     "output_type": "display_data"
    },
    {
     "name": "stdout",
     "output_type": "stream",
     "text": [
      "epoch: 69: acc: 0.868421052631579 f1: 0.7058823529411765\n"
     ]
    },
    {
     "data": {
      "application/vnd.jupyter.widget-view+json": {
       "model_id": "b8307eb9ad3446ecbb7a2f6c34adf9be",
       "version_major": 2,
       "version_minor": 0
      },
      "text/plain": [
       "  0%|          | 0/19 [00:00<?, ?it/s]"
      ]
     },
     "metadata": {},
     "output_type": "display_data"
    },
    {
     "name": "stdout",
     "output_type": "stream",
     "text": [
      "epoch: 70: acc: 0.868421052631579 f1: 0.7058823529411765\n"
     ]
    },
    {
     "data": {
      "application/vnd.jupyter.widget-view+json": {
       "model_id": "b6f0fdb793ea4d7a967f2ab4a4277e50",
       "version_major": 2,
       "version_minor": 0
      },
      "text/plain": [
       "  0%|          | 0/19 [00:00<?, ?it/s]"
      ]
     },
     "metadata": {},
     "output_type": "display_data"
    },
    {
     "name": "stdout",
     "output_type": "stream",
     "text": [
      "epoch: 71: acc: 0.868421052631579 f1: 0.7058823529411765\n"
     ]
    },
    {
     "data": {
      "application/vnd.jupyter.widget-view+json": {
       "model_id": "3ab9671ba489454d8ba6791eaa8cd759",
       "version_major": 2,
       "version_minor": 0
      },
      "text/plain": [
       "  0%|          | 0/19 [00:00<?, ?it/s]"
      ]
     },
     "metadata": {},
     "output_type": "display_data"
    },
    {
     "ename": "KeyboardInterrupt",
     "evalue": "",
     "output_type": "error",
     "traceback": [
      "\u001b[0;31m---------------------------------------------------------------------------\u001b[0m",
      "\u001b[0;31mKeyboardInterrupt\u001b[0m                         Traceback (most recent call last)",
      "Cell \u001b[0;32mIn[14], line 27\u001b[0m\n\u001b[1;32m     24\u001b[0m         loss\u001b[38;5;241m.\u001b[39mbackward()\n\u001b[1;32m     25\u001b[0m         optimizer\u001b[38;5;241m.\u001b[39mstep()\n\u001b[1;32m     26\u001b[0m         pbar\u001b[38;5;241m.\u001b[39mset_postfix(\n\u001b[0;32m---> 27\u001b[0m             OrderedDict(loss\u001b[38;5;241m=\u001b[39mloss\u001b[38;5;241m.\u001b[39mitem())\n\u001b[1;32m     28\u001b[0m         )\n\u001b[1;32m     29\u001b[0m model\u001b[38;5;241m.\u001b[39meval()\n\u001b[1;32m     30\u001b[0m \u001b[38;5;28;01mfor\u001b[39;00m images, labels \u001b[38;5;129;01min\u001b[39;00m test_dl:\n",
      "\u001b[0;31mKeyboardInterrupt\u001b[0m: "
     ]
    }
   ],
   "source": [
    "from sklearn.metrics import accuracy_score, f1_score\n",
    "import torch.nn as nn\n",
    "\n",
    "model = timm.create_model('convnext_pico.d1_in1k', pretrained=True, \n",
    "                        num_classes=2, in_chans=3).to(device)\n",
    "loss_fn = nn.CrossEntropyLoss(weight=torch.tensor([1.0, 2.0]).to(device))\n",
    "# loss_fn = FocalLoss()\n",
    "optimizer = torch.optim.Adam(model.parameters(), lr=0.0001)\n",
    "best_score = 0.0\n",
    "best_model = None\n",
    "\n",
    "for epoch in range(250):\n",
    "    model.train()\n",
    "    labels_pred, labels_true = [], []\n",
    "    with tqdm(train_dl, total=len(train_dl), position=0, leave=True) as pbar:\n",
    "        for images, labels in pbar:\n",
    "            images = images.to(device)\n",
    "\n",
    "            labels = labels.to(device)\n",
    "            optimizer.zero_grad()\n",
    "            \n",
    "            output = model(images)\n",
    "            loss = loss_fn(output, labels)\n",
    "            loss.backward()\n",
    "            optimizer.step()\n",
    "            pbar.set_postfix(\n",
    "                OrderedDict(loss=loss.item())\n",
    "            )\n",
    "    model.eval()\n",
    "    for images, labels in test_dl:\n",
    "        images = images.to(device)\n",
    "        labels = labels.to(device)\n",
    "        with torch.no_grad():\n",
    "            output = model(images)\n",
    "            labels_pred.extend(list(output.softmax(dim=1).argmax(dim=1).detach().cpu().numpy()))\n",
    "            labels_true.extend(list(labels.detach().cpu().numpy()))\n",
    "\n",
    "    acc = accuracy_score(labels_true, labels_pred)\n",
    "    f1 = f1_score(labels_pred, labels_true)\n",
    "    print(f'epoch: {epoch + 1}: acc: {acc} f1: {f1}')\n",
    "    \n",
    "    if f1 * acc > best_score:\n",
    "        best_model = model\n",
    "        best_score = f1 * acc"
   ]
  },
  {
   "cell_type": "code",
   "execution_count": 15,
   "id": "fd68bf0d",
   "metadata": {},
   "outputs": [],
   "source": [
    "torch.save(best_model, 'type.pt')"
   ]
  },
  {
   "cell_type": "code",
   "execution_count": null,
   "id": "7ea191fe",
   "metadata": {},
   "outputs": [],
   "source": []
  },
  {
   "cell_type": "code",
   "execution_count": null,
   "id": "60f8db9d",
   "metadata": {},
   "outputs": [],
   "source": []
  },
  {
   "cell_type": "code",
   "execution_count": null,
   "id": "af7c2f92",
   "metadata": {},
   "outputs": [],
   "source": []
  }
 ],
 "metadata": {
  "kernelspec": {
   "display_name": "Python 3 (ipykernel)",
   "language": "python",
   "name": "python3"
  },
  "language_info": {
   "codemirror_mode": {
    "name": "ipython",
    "version": 3
   },
   "file_extension": ".py",
   "mimetype": "text/x-python",
   "name": "python",
   "nbconvert_exporter": "python",
   "pygments_lexer": "ipython3",
   "version": "3.11.5"
  }
 },
 "nbformat": 4,
 "nbformat_minor": 5
}
