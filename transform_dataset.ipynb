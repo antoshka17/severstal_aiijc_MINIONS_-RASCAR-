{
 "cells": [
  {
   "cell_type": "code",
   "execution_count": 7,
   "id": "6dcadb8e",
   "metadata": {},
   "outputs": [
    {
     "name": "stdout",
     "output_type": "stream",
     "text": [
      "['71.png', '128.png', '21.png', '75.png', '102.png', '125.png', '109.png', '152.png', '106.png', 'images-2.png', '25.png', '124.png', '114.png', '51.png', '70.png', '11.png', '45.png', '18.png', 'images15.png', '91.png', 'images12.png', '150.png', '28.png', '143.png', '40.png', '83.png', 'images35.png', 'images24.png', '8.png', '59.png', '101.png', 'images36.png', '123.png', 'images16.png', 'images-3.png', '126.png', '24.png', '67.png', 'images33.png', 'images19.png', '7.png', 'images3.png', '56.png', '50.png', '2.png', '108.png', '94.png', '117.png', '60.png', '57.png', 'images44.png', '66.png', 'images43.png', '47.png', '92.png', '105.png', '81.png', '23.png', '27.png', '120.png', '64.png', '145.png', '147.png', '3.png', '131.png', 'images29.png', '30.png', '127.png', '19.png', '43.png', '32.png', '16.png', '90.png', 'images.png', 'images34.png', '77.png', '118.png', 'images20.png', '46.png', '136.png', '113.png', '22.png', '138.png', '1.png', '119.png', 'images38.png', '10.png', '65.png', '137.png', '63.png', '55.png', '6.png', '0.png', '151.png', '142.png', '132.png', '96.png', 'images23.png', '144.png', '88.png', '26.png', '107.png', '135.png', '85.png', '37.png', '111.png', '15.png', '36.png', '48.png', '53.png', '78.png', '84.png', '34.png', 'images27.png', 'images26.png', '89.png', '58.png', '31.png', '17.png', 'images41.png', '86.png', '97.png', 'images11.png', '93.png', '116.png', '35.png', 'images40.png', '13.png', '44.png', '99.png', 'images22.png', '153.png', 'images45.png', '76.png', '20.png', '82.png', '5.png', '14.png', '33.png', '103.png', 'images21.png', 'images13.png', 'images28.png', '134.png', 'images18.png', '121.png', '115.png', '140.png', '146.png', '154.png', '133.png', '68.png', 'images2.png', 'images30.png', '61.png', '129.png', '39.png', 'images10.png', '69.png', '104.png', 'images14.png', 'images25.png', '4.png', '52.png', '141.png', '74.png', '49.png', 'images31.png', '112.png', '148.png', '12.png', '29.png', '139.png', 'images32.png', '100.png', '122.png', '110.png', '149.png', '38.png', 'images39.png', '72.png', 'images4.png', '54.png', '98.png', '41.png', '62.png']\n"
     ]
    }
   ],
   "source": [
    "import numpy as np\n",
    "import os, sys\n",
    "from PIL import Image\n",
    "from pathlib import Path\n",
    "import cv2\n",
    "\n",
    "orig_masks_dir = 'original_masks'\n",
    "images_path = 'ds'\n",
    "image_names = os.listdir(orig_masks_dir)\n",
    "orig_images_dir = 'original_images'\n",
    "print(image_names)"
   ]
  },
  {
   "cell_type": "code",
   "execution_count": 8,
   "id": "ecb055e2",
   "metadata": {},
   "outputs": [],
   "source": [
    "if not Path(orig_images_dir).exists():\n",
    "    os.mkdir(orig_images_dir)\n",
    "    \n",
    "for image_name in image_names:\n",
    "    if image_name[0] != 'i':\n",
    "        image_path = os.path.join(images_path, image_name[:-4] + '.jpg')\n",
    "    else:\n",
    "        image_path = os.path.join(images_path, image_name[:-4] + '.jpeg')\n",
    "    image = Image.open(image_path)\n",
    "    image = np.array(image)\n",
    "    cv2.imwrite(os.path.join(orig_images_dir, image_name), image)"
   ]
  },
  {
   "cell_type": "code",
   "execution_count": null,
   "id": "41310923",
   "metadata": {},
   "outputs": [],
   "source": []
  }
 ],
 "metadata": {
  "kernelspec": {
   "display_name": "Python 3 (ipykernel)",
   "language": "python",
   "name": "python3"
  },
  "language_info": {
   "codemirror_mode": {
    "name": "ipython",
    "version": 3
   },
   "file_extension": ".py",
   "mimetype": "text/x-python",
   "name": "python",
   "nbconvert_exporter": "python",
   "pygments_lexer": "ipython3",
   "version": "3.11.5"
  }
 },
 "nbformat": 4,
 "nbformat_minor": 5
}
