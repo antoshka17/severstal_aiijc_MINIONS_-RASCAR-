{
 "cells": [
  {
   "cell_type": "code",
   "execution_count": 1,
   "id": "68fae14a-8623-40bf-9594-f12caf966c9e",
   "metadata": {},
   "outputs": [
    {
     "name": "stdout",
     "output_type": "stream",
     "text": [
      "Defaulting to user installation because normal site-packages is not writeable\n",
      "Requirement already satisfied: torch in /home/anton/.local/lib/python3.12/site-packages (2.4.0)\n",
      "Requirement already satisfied: filelock in /home/anton/.local/lib/python3.12/site-packages (from torch) (3.15.4)\n",
      "Requirement already satisfied: typing-extensions>=4.8.0 in /home/anton/.local/lib/python3.12/site-packages (from torch) (4.12.2)\n",
      "Requirement already satisfied: sympy in /home/anton/.local/lib/python3.12/site-packages (from torch) (1.13.2)\n",
      "Requirement already satisfied: networkx in /home/anton/.local/lib/python3.12/site-packages (from torch) (3.3)\n",
      "Requirement already satisfied: jinja2 in /home/anton/.local/lib/python3.12/site-packages (from torch) (3.1.4)\n",
      "Requirement already satisfied: fsspec in /home/anton/.local/lib/python3.12/site-packages (from torch) (2024.6.1)\n",
      "Requirement already satisfied: setuptools in /usr/lib/python3.12/site-packages (from torch) (69.0.3)\n",
      "Requirement already satisfied: nvidia-cuda-nvrtc-cu12==12.1.105 in /home/anton/.local/lib/python3.12/site-packages (from torch) (12.1.105)\n",
      "Requirement already satisfied: nvidia-cuda-runtime-cu12==12.1.105 in /home/anton/.local/lib/python3.12/site-packages (from torch) (12.1.105)\n",
      "Requirement already satisfied: nvidia-cuda-cupti-cu12==12.1.105 in /home/anton/.local/lib/python3.12/site-packages (from torch) (12.1.105)\n",
      "Requirement already satisfied: nvidia-cudnn-cu12==9.1.0.70 in /home/anton/.local/lib/python3.12/site-packages (from torch) (9.1.0.70)\n",
      "Requirement already satisfied: nvidia-cublas-cu12==12.1.3.1 in /home/anton/.local/lib/python3.12/site-packages (from torch) (12.1.3.1)\n",
      "Requirement already satisfied: nvidia-cufft-cu12==11.0.2.54 in /home/anton/.local/lib/python3.12/site-packages (from torch) (11.0.2.54)\n",
      "Requirement already satisfied: nvidia-curand-cu12==10.3.2.106 in /home/anton/.local/lib/python3.12/site-packages (from torch) (10.3.2.106)\n",
      "Requirement already satisfied: nvidia-cusolver-cu12==11.4.5.107 in /home/anton/.local/lib/python3.12/site-packages (from torch) (11.4.5.107)\n",
      "Requirement already satisfied: nvidia-cusparse-cu12==12.1.0.106 in /home/anton/.local/lib/python3.12/site-packages (from torch) (12.1.0.106)\n",
      "Requirement already satisfied: nvidia-nccl-cu12==2.20.5 in /home/anton/.local/lib/python3.12/site-packages (from torch) (2.20.5)\n",
      "Requirement already satisfied: nvidia-nvtx-cu12==12.1.105 in /home/anton/.local/lib/python3.12/site-packages (from torch) (12.1.105)\n",
      "Requirement already satisfied: triton==3.0.0 in /home/anton/.local/lib/python3.12/site-packages (from torch) (3.0.0)\n",
      "Requirement already satisfied: nvidia-nvjitlink-cu12 in /home/anton/.local/lib/python3.12/site-packages (from nvidia-cusolver-cu12==11.4.5.107->torch) (12.6.20)\n",
      "Requirement already satisfied: MarkupSafe>=2.0 in /usr/lib64/python3.12/site-packages (from jinja2->torch) (2.1.3)\n",
      "Requirement already satisfied: mpmath<1.4,>=1.1.0 in /home/anton/.local/lib/python3.12/site-packages (from sympy->torch) (1.3.0)\n"
     ]
    }
   ],
   "source": [
    "!pip install torch"
   ]
  },
  {
   "cell_type": "code",
   "execution_count": 2,
   "id": "8029e267-3f74-4577-8050-bfbaaaf0e9f4",
   "metadata": {},
   "outputs": [
    {
     "name": "stdout",
     "output_type": "stream",
     "text": [
      "Defaulting to user installation because normal site-packages is not writeable\n",
      "Requirement already satisfied: segmentation_models_pytorch in /home/anton/.local/lib/python3.12/site-packages (0.3.3)\n",
      "Requirement already satisfied: torchvision>=0.5.0 in /home/anton/.local/lib/python3.12/site-packages (from segmentation_models_pytorch) (0.19.0)\n",
      "Requirement already satisfied: pretrainedmodels==0.7.4 in /home/anton/.local/lib/python3.12/site-packages (from segmentation_models_pytorch) (0.7.4)\n",
      "Requirement already satisfied: efficientnet-pytorch==0.7.1 in /home/anton/.local/lib/python3.12/site-packages (from segmentation_models_pytorch) (0.7.1)\n",
      "Requirement already satisfied: timm==0.9.2 in /home/anton/.local/lib/python3.12/site-packages (from segmentation_models_pytorch) (0.9.2)\n",
      "Requirement already satisfied: tqdm in /home/anton/.local/lib/python3.12/site-packages (from segmentation_models_pytorch) (4.66.5)\n",
      "Requirement already satisfied: pillow in /usr/lib64/python3.12/site-packages (from segmentation_models_pytorch) (10.2.0)\n",
      "Requirement already satisfied: torch in /home/anton/.local/lib/python3.12/site-packages (from efficientnet-pytorch==0.7.1->segmentation_models_pytorch) (2.4.0)\n",
      "Requirement already satisfied: munch in /home/anton/.local/lib/python3.12/site-packages (from pretrainedmodels==0.7.4->segmentation_models_pytorch) (4.0.0)\n",
      "Requirement already satisfied: pyyaml in /usr/lib64/python3.12/site-packages (from timm==0.9.2->segmentation_models_pytorch) (6.0.1)\n",
      "Requirement already satisfied: huggingface-hub in /home/anton/.local/lib/python3.12/site-packages (from timm==0.9.2->segmentation_models_pytorch) (0.24.5)\n",
      "Requirement already satisfied: safetensors in /home/anton/.local/lib/python3.12/site-packages (from timm==0.9.2->segmentation_models_pytorch) (0.4.4)\n",
      "Requirement already satisfied: numpy in /home/anton/.local/lib/python3.12/site-packages (from torchvision>=0.5.0->segmentation_models_pytorch) (1.26.4)\n",
      "Requirement already satisfied: filelock in /home/anton/.local/lib/python3.12/site-packages (from torch->efficientnet-pytorch==0.7.1->segmentation_models_pytorch) (3.15.4)\n",
      "Requirement already satisfied: typing-extensions>=4.8.0 in /home/anton/.local/lib/python3.12/site-packages (from torch->efficientnet-pytorch==0.7.1->segmentation_models_pytorch) (4.12.2)\n",
      "Requirement already satisfied: sympy in /home/anton/.local/lib/python3.12/site-packages (from torch->efficientnet-pytorch==0.7.1->segmentation_models_pytorch) (1.13.2)\n",
      "Requirement already satisfied: networkx in /home/anton/.local/lib/python3.12/site-packages (from torch->efficientnet-pytorch==0.7.1->segmentation_models_pytorch) (3.3)\n",
      "Requirement already satisfied: jinja2 in /home/anton/.local/lib/python3.12/site-packages (from torch->efficientnet-pytorch==0.7.1->segmentation_models_pytorch) (3.1.4)\n",
      "Requirement already satisfied: fsspec in /home/anton/.local/lib/python3.12/site-packages (from torch->efficientnet-pytorch==0.7.1->segmentation_models_pytorch) (2024.6.1)\n",
      "Requirement already satisfied: setuptools in /usr/lib/python3.12/site-packages (from torch->efficientnet-pytorch==0.7.1->segmentation_models_pytorch) (69.0.3)\n",
      "Requirement already satisfied: nvidia-cuda-nvrtc-cu12==12.1.105 in /home/anton/.local/lib/python3.12/site-packages (from torch->efficientnet-pytorch==0.7.1->segmentation_models_pytorch) (12.1.105)\n",
      "Requirement already satisfied: nvidia-cuda-runtime-cu12==12.1.105 in /home/anton/.local/lib/python3.12/site-packages (from torch->efficientnet-pytorch==0.7.1->segmentation_models_pytorch) (12.1.105)\n",
      "Requirement already satisfied: nvidia-cuda-cupti-cu12==12.1.105 in /home/anton/.local/lib/python3.12/site-packages (from torch->efficientnet-pytorch==0.7.1->segmentation_models_pytorch) (12.1.105)\n",
      "Requirement already satisfied: nvidia-cudnn-cu12==9.1.0.70 in /home/anton/.local/lib/python3.12/site-packages (from torch->efficientnet-pytorch==0.7.1->segmentation_models_pytorch) (9.1.0.70)\n",
      "Requirement already satisfied: nvidia-cublas-cu12==12.1.3.1 in /home/anton/.local/lib/python3.12/site-packages (from torch->efficientnet-pytorch==0.7.1->segmentation_models_pytorch) (12.1.3.1)\n",
      "Requirement already satisfied: nvidia-cufft-cu12==11.0.2.54 in /home/anton/.local/lib/python3.12/site-packages (from torch->efficientnet-pytorch==0.7.1->segmentation_models_pytorch) (11.0.2.54)\n",
      "Requirement already satisfied: nvidia-curand-cu12==10.3.2.106 in /home/anton/.local/lib/python3.12/site-packages (from torch->efficientnet-pytorch==0.7.1->segmentation_models_pytorch) (10.3.2.106)\n",
      "Requirement already satisfied: nvidia-cusolver-cu12==11.4.5.107 in /home/anton/.local/lib/python3.12/site-packages (from torch->efficientnet-pytorch==0.7.1->segmentation_models_pytorch) (11.4.5.107)\n",
      "Requirement already satisfied: nvidia-cusparse-cu12==12.1.0.106 in /home/anton/.local/lib/python3.12/site-packages (from torch->efficientnet-pytorch==0.7.1->segmentation_models_pytorch) (12.1.0.106)\n",
      "Requirement already satisfied: nvidia-nccl-cu12==2.20.5 in /home/anton/.local/lib/python3.12/site-packages (from torch->efficientnet-pytorch==0.7.1->segmentation_models_pytorch) (2.20.5)\n",
      "Requirement already satisfied: nvidia-nvtx-cu12==12.1.105 in /home/anton/.local/lib/python3.12/site-packages (from torch->efficientnet-pytorch==0.7.1->segmentation_models_pytorch) (12.1.105)\n",
      "Requirement already satisfied: triton==3.0.0 in /home/anton/.local/lib/python3.12/site-packages (from torch->efficientnet-pytorch==0.7.1->segmentation_models_pytorch) (3.0.0)\n",
      "Requirement already satisfied: nvidia-nvjitlink-cu12 in /home/anton/.local/lib/python3.12/site-packages (from nvidia-cusolver-cu12==11.4.5.107->torch->efficientnet-pytorch==0.7.1->segmentation_models_pytorch) (12.6.20)\n",
      "Requirement already satisfied: packaging>=20.9 in /usr/lib/python3.12/site-packages (from huggingface-hub->timm==0.9.2->segmentation_models_pytorch) (23.2)\n",
      "Requirement already satisfied: requests in /usr/lib/python3.12/site-packages (from huggingface-hub->timm==0.9.2->segmentation_models_pytorch) (2.31.0)\n",
      "Requirement already satisfied: MarkupSafe>=2.0 in /usr/lib64/python3.12/site-packages (from jinja2->torch->efficientnet-pytorch==0.7.1->segmentation_models_pytorch) (2.1.3)\n",
      "Requirement already satisfied: charset-normalizer<4,>=2 in /usr/lib/python3.12/site-packages (from requests->huggingface-hub->timm==0.9.2->segmentation_models_pytorch) (3.3.2)\n",
      "Requirement already satisfied: idna<4,>=2.5 in /usr/lib/python3.12/site-packages (from requests->huggingface-hub->timm==0.9.2->segmentation_models_pytorch) (3.6)\n",
      "Requirement already satisfied: urllib3<3,>=1.21.1 in /usr/lib/python3.12/site-packages (from requests->huggingface-hub->timm==0.9.2->segmentation_models_pytorch) (1.26.18)\n",
      "Requirement already satisfied: mpmath<1.4,>=1.1.0 in /home/anton/.local/lib/python3.12/site-packages (from sympy->torch->efficientnet-pytorch==0.7.1->segmentation_models_pytorch) (1.3.0)\n"
     ]
    }
   ],
   "source": [
    "!pip install segmentation_models_pytorch"
   ]
  },
  {
   "cell_type": "code",
   "execution_count": 4,
   "id": "f7ab823a-dc76-43ff-9d9d-03545f938c49",
   "metadata": {},
   "outputs": [
    {
     "name": "stderr",
     "output_type": "stream",
     "text": [
      "/tmp/ipykernel_8318/139363022.py:4: FutureWarning: You are using `torch.load` with `weights_only=False` (the current default value), which uses the default pickle module implicitly. It is possible to construct malicious pickle data which will execute arbitrary code during unpickling (See https://github.com/pytorch/pytorch/blob/main/SECURITY.md#untrusted-models for more details). In a future release, the default value for `weights_only` will be flipped to `True`. This limits the functions that could be executed during unpickling. Arbitrary objects will no longer be allowed to be loaded via this mode unless they are explicitly allowlisted by the user via `torch.serialization.add_safe_globals`. We recommend you start setting `weights_only=True` for any use case where you don't have full control of the loaded file. Please open an issue on GitHub for any issues related to this experimental feature.\n",
      "  model = torch.load('model_resnet18_lovasz_05_05_110.pt', map_location='cpu')\n",
      "/home/anton/.local/lib/python3.12/site-packages/tqdm/auto.py:21: TqdmWarning: IProgress not found. Please update jupyter and ipywidgets. See https://ipywidgets.readthedocs.io/en/stable/user_install.html\n",
      "  from .autonotebook import tqdm as notebook_tqdm\n",
      "/home/anton/.local/lib/python3.12/site-packages/segmentation_models_pytorch/base/model.py:16: TracerWarning: Converting a tensor to a Python boolean might cause the trace to be incorrect. We can't record the data flow of Python values, so this value will be treated as a constant in the future. This means that the trace might not generalize to other inputs!\n",
      "  if h % output_stride != 0 or w % output_stride != 0:\n"
     ]
    }
   ],
   "source": [
    "import torch\n",
    "from torch.utils.mobile_optimizer import optimize_for_mobile\n",
    "\n",
    "model = torch.load('model_resnet18_lovasz_05_05_110.pt', map_location='cpu')\n",
    "model.eval()\n",
    "example = torch.rand(1, 3, 512, 512)\n",
    "# traced_script_module = torch.jit.trace(model, example)\n",
    "# traced_script_module_optimized = optimize_for_mobile(traced_script_module)\n",
    "# traced_script_module_optimized._save_for_lite_interpreter(\"resnet.ptl\")\n",
    "scriptedm = torch.jit.trace(model, example)\n",
    "torch.jit.save(scriptedm, \"resnet_scripted.pt\")\n"
   ]
  },
  {
   "cell_type": "code",
   "execution_count": null,
   "id": "2ab555c9-c5d3-4d41-a69b-ffec403ea0ab",
   "metadata": {},
   "outputs": [],
   "source": []
  }
 ],
 "metadata": {
  "kernelspec": {
   "display_name": "Python 3 (ipykernel)",
   "language": "python",
   "name": "python3"
  },
  "language_info": {
   "codemirror_mode": {
    "name": "ipython",
    "version": 3
   },
   "file_extension": ".py",
   "mimetype": "text/x-python",
   "name": "python",
   "nbconvert_exporter": "python",
   "pygments_lexer": "ipython3",
   "version": "3.11.5"
  }
 },
 "nbformat": 4,
 "nbformat_minor": 5
}
